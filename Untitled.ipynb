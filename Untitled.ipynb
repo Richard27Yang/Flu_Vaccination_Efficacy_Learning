{
 "cells": [
  {
   "cell_type": "code",
   "execution_count": 2,
   "metadata": {
    "scrolled": true
   },
   "outputs": [
    {
     "name": "stdout",
     "output_type": "stream",
     "text": [
      " Volume in drive C has no label.\n",
      " Volume Serial Number is 667B-074F\n",
      "\n",
      " Directory of C:\\Users\\yangy\\Flu_Vaccination_Efficacy_Learning\n",
      "\n",
      "02/03/2018  11:34 PM    <DIR>          .\n",
      "02/03/2018  11:34 PM    <DIR>          ..\n",
      "02/03/2018  11:04 PM    <DIR>          .ipynb_checkpoints\n",
      "02/03/2018  10:44 PM    <DIR>          Datasets\n",
      "02/03/2018  09:04 PM           106,202 ipython.html\n",
      "02/03/2018  10:43 PM    <DIR>          ipython_files\n",
      "02/03/2018  10:56 PM               356 README.md\n",
      "02/03/2018  10:50 PM    <DIR>          Results\n",
      "02/03/2018  11:34 PM            89,797 Screen_Shot_2018_01_26_at_1.04.54_PM.png\n",
      "02/03/2018  10:50 PM    <DIR>          Sourcecode\n",
      "02/03/2018  11:05 PM               581 Untitled.ipynb\n",
      "               4 File(s)        196,936 bytes\n",
      "               7 Dir(s)  26,941,190,144 bytes free\n"
     ]
    }
   ],
   "source": [
    "ls"
   ]
  },
  {
   "cell_type": "code",
   "execution_count": null,
   "metadata": {
    "collapsed": true
   },
   "outputs": [],
   "source": []
  }
 ],
 "metadata": {
  "kernelspec": {
   "display_name": "Python 3",
   "language": "python",
   "name": "python3"
  },
  "language_info": {
   "codemirror_mode": {
    "name": "ipython",
    "version": 3
   },
   "file_extension": ".py",
   "mimetype": "text/x-python",
   "name": "python",
   "nbconvert_exporter": "python",
   "pygments_lexer": "ipython3",
   "version": "3.6.1"
  }
 },
 "nbformat": 4,
 "nbformat_minor": 2
}
